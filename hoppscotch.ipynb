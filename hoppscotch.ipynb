{
 "cells": [
  {
   "attachments": {},
   "cell_type": "markdown",
   "metadata": {},
   "source": [
    "# Python-APIs-Consuming-II\n",
    "\n",
    "[GitHub Classroom Link](https://github.com/fbw-p22-e3-assignments/python-apis-consuming-ii-alj-b)"
   ]
  },
  {
   "attachments": {},
   "cell_type": "markdown",
   "metadata": {},
   "source": [
    "## 1: Advanced Postman:\n",
    "\n",
    "_Note:_ I will be using Hoppscotch."
   ]
  },
  {
   "attachments": {},
   "cell_type": "markdown",
   "metadata": {},
   "source": [
    "### 1.1: Make GET call to get some companies:\n",
    "\n",
    "Call:\n",
    "\n",
    "    https://fakerapi.it/api/v1/companies?_quantity=1\n",
    "\n",
    "Results:\n",
    "\n",
    "    {\n",
    "      \"status\": \"OK\",\n",
    "      \"code\": 200,\n",
    "      \"total\": 1,\n",
    "      \"data\": [\n",
    "        {\n",
    "          \"id\": 1,\n",
    "          \"name\": \"Von, Runte and Doyle\",\n",
    "          \"email\": \"feest.brendan@yahoo.com\",\n",
    "          \"vat\": \"05877724439\",\n",
    "          \"phone\": \"+2783359114290\",\n",
    "          \"country\": \"Azerbaijan\",\n",
    "          \"addresses\": [\n",
    "            {\n",
    "              \"id\": 0,\n",
    "              \"street\": \"498 Nader Wall Apt. 847\",\n",
    "              \"streetName\": \"Murphy Views\",\n",
    "              \"buildingNumber\": \"5223\",\n",
    "              \"city\": \"New Tremayne\",\n",
    "              \"zipcode\": \"16897-5925\",\n",
    "              \"country\": \"United Arab Emirates\",\n",
    "              \"county_code\": \"NE\",\n",
    "              \"latitude\": -76.617045,\n",
    "              \"longitude\": -55.565547\n",
    "            },\n",
    "            {\n",
    "              \"id\": 0,\n",
    "              \"street\": \"5762 Breitenberg Glens Apt. 549\",\n",
    "              \"streetName\": \"Emmie Trail\",\n",
    "              \"buildingNumber\": \"721\",\n",
    "              \"city\": \"Rowemouth\",\n",
    "              \"zipcode\": \"97092-1817\",\n",
    "              \"country\": \"Kazakhstan\",\n",
    "              \"county_code\": \"RO\",\n",
    "              \"latitude\": 48.419877,\n",
    "              \"longitude\": 21.012142\n",
    "            },\n",
    "            {\n",
    "              \"id\": 0,\n",
    "              \"street\": \"257 Becker Lodge\",\n",
    "              \"streetName\": \"Daugherty Corners\",\n",
    "              \"buildingNumber\": \"39090\",\n",
    "              \"city\": \"Port Kenneth\",\n",
    "              \"zipcode\": \"03581-2625\",\n",
    "              \"country\": \"Cambodia\",\n",
    "              \"county_code\": \"PT\",\n",
    "              \"latitude\": 81.856947,\n",
    "              \"longitude\": 147.443622\n",
    "            },\n",
    "            {\n",
    "              \"id\": 0,\n",
    "              \"street\": \"8703 Ebba Squares Suite 764\",\n",
    "              \"streetName\": \"Christelle Street\",\n",
    "              \"buildingNumber\": \"900\",\n",
    "              \"city\": \"Leonelhaven\",\n",
    "              \"zipcode\": \"54079\",\n",
    "              \"country\": \"Cook Islands\",\n",
    "              \"county_code\": \"SI\",\n",
    "              \"latitude\": 10.281831,\n",
    "              \"longitude\": 177.091696\n",
    "            },\n",
    "            {\n",
    "              \"id\": 0,\n",
    "              \"street\": \"25073 Joesph Falls Suite 622\",\n",
    "              \"streetName\": \"Orn Spur\",\n",
    "              \"buildingNumber\": \"984\",\n",
    "              \"city\": \"Sawaynchester\",\n",
    "              \"zipcode\": \"30559-7159\",\n",
    "              \"country\": \"Iceland\",\n",
    "              \"county_code\": \"JP\",\n",
    "              \"latitude\": -60.629909,\n",
    "              \"longitude\": 129.696612\n",
    "            }\n",
    "          ],\n",
    "          \"website\": \"http://paucek.info\",\n",
    "          \"image\": \"http://placeimg.com/640/480/people\",\n",
    "          \"contact\": {\n",
    "            \"id\": 0,\n",
    "            \"firstname\": \"Rico\",\n",
    "            \"lastname\": \"Senger\",\n",
    "            \"email\": \"moore.rocio@stroman.org\",\n",
    "            \"phone\": \"+5629202562463\",\n",
    "            \"birthday\": \"2015-11-09\",\n",
    "            \"gender\": \"male\",\n",
    "            \"address\": {\n",
    "              \"id\": 0,\n",
    "              \"street\": \"415 Zaria Forges\",\n",
    "              \"streetName\": \"Stanley Lakes\",\n",
    "              \"buildingNumber\": \"80408\",\n",
    "              \"city\": \"Caleighhaven\",\n",
    "              \"zipcode\": \"83201\",\n",
    "              \"country\": \"Djibouti\",\n",
    "              \"county_code\": \"TL\",\n",
    "              \"latitude\": -79.248351,\n",
    "              \"longitude\": -139.928072\n",
    "            },\n",
    "            \"website\": \"http://green.com\",\n",
    "            \"image\": \"http://placeimg.com/640/480/people\"\n",
    "          }\n",
    "        }\n",
    "      ]\n",
    "    }"
   ]
  },
  {
   "attachments": {},
   "cell_type": "markdown",
   "metadata": {},
   "source": [
    "### 1.2 Make GET call to get 50 persons with English names who were born after 1994:\n",
    "\n",
    "Call:\n",
    "\n",
    "    https://fakerapi.it/api/v1/persons?_locale=en_EN&_quantity=50&_birthday_start=1994-01-01\n",
    "\n",
    "Results (for quantity 1):\n",
    "\n",
    "    {\n",
    "      \"status\": \"OK\",\n",
    "      \"code\": 200,\n",
    "      \"total\": 1,\n",
    "      \"data\": [\n",
    "        {\n",
    "          \"id\": 1,\n",
    "          \"firstname\": \"Anika\",\n",
    "          \"lastname\": \"Kulas\",\n",
    "          \"email\": \"ruby12@yahoo.com\",\n",
    "          \"phone\": \"+3290562374123\",\n",
    "          \"birthday\": \"2016-04-18\",\n",
    "          \"gender\": \"female\",\n",
    "          \"address\": {\n",
    "            \"id\": 0,\n",
    "            \"street\": \"39353 Rolfson Square\",\n",
    "            \"streetName\": \"Anastasia Common\",\n",
    "            \"buildingNumber\": \"71737\",\n",
    "            \"city\": \"Lake Daron\",\n",
    "            \"zipcode\": \"97273\",\n",
    "            \"country\": \"French Polynesia\",\n",
    "            \"county_code\": \"SZ\",\n",
    "            \"latitude\": 24.272138,\n",
    "            \"longitude\": -140.764891\n",
    "          },\n",
    "          \"website\": \"http://thiel.com\",\n",
    "          \"image\": \"http://placeimg.com/640/480/people\"\n",
    "        }\n",
    "      ]\n",
    "    }"
   ]
  },
  {
   "attachments": {},
   "cell_type": "markdown",
   "metadata": {},
   "source": [
    "### 1.3 Make GET call to get 5 German companies:\n",
    "\n",
    "Call: \n",
    "\n",
    "    https://fakerapi.it/api/v1/companies?_quantity=5&_locale=de_DE\n",
    "\n",
    "Results (for one example):\n",
    "\n",
    "    {\n",
    "    \"status\": \"OK\",\n",
    "    \"code\": 200,\n",
    "    \"total\": 1,\n",
    "    \"data\": [\n",
    "        {\n",
    "        \"id\": 1,\n",
    "        \"name\": \"Schmid e.V.\",\n",
    "        \"email\": \"anette.runge@michels.com\",\n",
    "        \"vat\": \"24118641235\",\n",
    "        \"phone\": \"+3764533426695\",\n",
    "        \"country\": \"Vanuatu\",\n",
    "        \"addresses\": [\n",
    "            {\n",
    "            \"id\": 0,\n",
    "            \"street\": \"Enrico-Menzel-Allee 74b\",\n",
    "            \"streetName\": \"Bernd-Lang-Platz\",\n",
    "            \"buildingNumber\": \"25\",\n",
    "            \"city\": \"Elmshorn\",\n",
    "            \"zipcode\": \"92929\",\n",
    "            \"country\": \"Gabun\",\n",
    "            \"county_code\": \"PF\",\n",
    "            \"latitude\": -2.59511,\n",
    "            \"longitude\": 113.556914\n",
    "            },\n",
    "            {\n",
    "            \"id\": 0,\n",
    "            \"street\": \"Elfi-Greiner-Weg 8\",\n",
    "            \"streetName\": \"Andrea-Jung-Gasse\",\n",
    "            \"buildingNumber\": \"1/5\",\n",
    "            \"city\": \"Oberursel (Taunus)\",\n",
    "            \"zipcode\": \"21519\",\n",
    "            \"country\": \"Kuwait\",\n",
    "            \"county_code\": \"ZM\",\n",
    "            \"latitude\": -10.193883,\n",
    "            \"longitude\": 23.188777\n",
    "            }\n",
    "        ],\n",
    "        \"website\": \"http://scheffler.org\",\n",
    "        \"image\": \"http://placeimg.com/640/480/people\",\n",
    "        \"contact\": {\n",
    "            \"id\": 0,\n",
    "            \"firstname\": \"Uschi\",\n",
    "            \"lastname\": \"Keil\",\n",
    "            \"email\": \"josefa.henke@fuhrmann.de\",\n",
    "            \"phone\": \"+7601839036763\",\n",
    "            \"birthday\": \"1993-06-09\",\n",
    "            \"gender\": \"female\",\n",
    "            \"address\": {\n",
    "            \"id\": 0,\n",
    "            \"street\": \"Burkhardtstr. 3b\",\n",
    "            \"streetName\": \"Johann-Dittrich-Allee\",\n",
    "            \"buildingNumber\": \"73a\",\n",
    "            \"city\": \"Brandenburg an der Havel\",\n",
    "            \"zipcode\": \"51329\",\n",
    "            \"country\": \"Philippinen\",\n",
    "            \"county_code\": \"PL\",\n",
    "            \"latitude\": 84.311038,\n",
    "            \"longitude\": 179.754337\n",
    "            },\n",
    "            \"website\": \"http://heinz.com\",\n",
    "            \"image\": \"http://placeimg.com/640/480/people\"\n",
    "        }\n",
    "        }\n",
    "    ]\n",
    "    }"
   ]
  },
  {
   "attachments": {},
   "cell_type": "markdown",
   "metadata": {},
   "source": [
    "### 1.4 Make GET call to retrieve 60 credit cards of Spanish people:\n",
    "\n",
    "Call:\n",
    "\n",
    "    https://fakerapi.it/api/v1/credit_cards?_quantity=60&_locale=es_ES\n",
    "\n",
    "Results (for one example):\n",
    "\n",
    "    {\n",
    "    \"status\": \"OK\",\n",
    "    \"code\": 200,\n",
    "    \"total\": 1,\n",
    "    \"data\": [\n",
    "        {\n",
    "        \"type\": \"MasterCard\",\n",
    "        \"number\": \"2640355442441879\",\n",
    "        \"expiration\": \"06/24\",\n",
    "        \"owner\": \"Gloria Morán\"\n",
    "        }\n",
    "    ]\n",
    "    }"
   ]
  },
  {
   "attachments": {},
   "cell_type": "markdown",
   "metadata": {},
   "source": [
    "### 1.5 Make GET call to retrieve 47 products that cost higher than 50€:\n",
    "\n",
    "Call:\n",
    "\n",
    "    https://fakerapi.it/api/v1/products?_quantity=47&_price_min=50  \n",
    "\n",
    "Example result:\n",
    "\n",
    "        {\n",
    "        \"status\": \"OK\",\n",
    "        \"code\": 200,\n",
    "        \"total\": 1,\n",
    "        \"data\": [\n",
    "            {\n",
    "            \"id\": 1,\n",
    "            \"name\": \"Quod eos ut id et rerum in.\",\n",
    "            \"description\": \"Consequatur aliquid soluta nulla in pariatur aut. Ratione libero rerum ut laborum. Tempore temporibus omnis quia voluptates unde saepe dolorum ad.\",\n",
    "            \"ean\": \"4051607527090\",\n",
    "            \"upc\": \"414990030247\",\n",
    "            \"image\": \"http://placeimg.com/640/480/tech\",\n",
    "            \"images\": [\n",
    "                {\n",
    "                \"title\": \"Voluptas quidem iste sit eum.\",\n",
    "                \"description\": \"Aspernatur nobis hic ea quis corporis. Facere est numquam esse autem et. Nisi tenetur nam mollitia eius qui quidem. Voluptas suscipit qui eos amet velit.\",\n",
    "                \"url\": \"http://placeimg.com/640/480/any\"\n",
    "                },\n",
    "                {\n",
    "                \"title\": \"Error ad id ratione.\",\n",
    "                \"description\": \"Dolorum rerum mollitia voluptate sed sit perferendis labore voluptas. Velit voluptatem sequi in laborum corrupti velit.\",\n",
    "                \"url\": \"http://placeimg.com/640/480/any\"\n",
    "                },\n",
    "                {\n",
    "                \"title\": \"Ea est id quae non.\",\n",
    "                \"description\": \"Cum sed ut ut. Impedit aut et nemo ipsam deleniti harum. Molestiae tempore eum maxime enim repudiandae reiciendis.\",\n",
    "                \"url\": \"http://placeimg.com/640/480/any\"\n",
    "                }\n",
    "            ],\n",
    "            \"net_price\": 10483822.69,\n",
    "            \"taxes\": 22,\n",
    "            \"price\": \"12790263.68\",\n",
    "            \"categories\": [\n",
    "                8\n",
    "            ],\n",
    "            \"tags\": [\n",
    "                \"temporibus\",\n",
    "                \"ad\",\n",
    "                \"saepe\",\n",
    "                \"exercitationem\",\n",
    "                \"sit\",\n",
    "                \"voluptatem\",\n",
    "                \"et\"\n",
    "            ]\n",
    "            }\n",
    "        ]\n",
    "        }"
   ]
  },
  {
   "attachments": {},
   "cell_type": "markdown",
   "metadata": {},
   "source": [
    "### 1.6 Make GET call to retrieve 10 Custom objects with \"pokemon\", \"website\", and \"name\" fields:\n",
    "\n",
    "Call: \n",
    "\n",
    "    https://fakerapi.it/api/v1/custom?_quantity=10&customfield1=pokemon&customfield2=website&customfield3=name\n",
    "\n",
    "Results:\n",
    "\n",
    "    {\n",
    "    \"status\": \"OK\",\n",
    "    \"code\": 200,\n",
    "    \"total\": 10,\n",
    "    \"data\": [\n",
    "        {\n",
    "        \"customfield1\": \"Nidorino\",\n",
    "        \"customfield2\": \"sawayn.biz\",\n",
    "        \"customfield3\": \"Gardner Stracke\"\n",
    "        },\n",
    "        {\n",
    "        \"customfield1\": \"Paras\",\n",
    "        \"customfield2\": \"stokes.biz\",\n",
    "        \"customfield3\": \"Breanne Feest\"\n",
    "        },\n",
    "        {\n",
    "        \"customfield1\": \"Chatot\",\n",
    "        \"customfield2\": \"collier.info\",\n",
    "        \"customfield3\": \"Tiana Robel\"\n",
    "        },\n",
    "        {\n",
    "        \"customfield1\": \"Cinccino\",\n",
    "        \"customfield2\": \"emard.com\",\n",
    "        \"customfield3\": \"Lupe Dach\"\n",
    "        },\n",
    "        {\n",
    "        \"customfield1\": \"Eevee\",\n",
    "        \"customfield2\": \"jones.com\",\n",
    "        \"customfield3\": \"Giuseppe Keeling\"\n",
    "        },\n",
    "        {\n",
    "        \"customfield1\": \"Furret\",\n",
    "        \"customfield2\": \"sanford.com\",\n",
    "        \"customfield3\": \"Madonna Witting\"\n",
    "        },\n",
    "        {\n",
    "        \"customfield1\": \"Tyrunt\",\n",
    "        \"customfield2\": \"ledner.com\",\n",
    "        \"customfield3\": \"Ibrahim Wilkinson\"\n",
    "        },\n",
    "        {\n",
    "        \"customfield1\": \"Morelull\",\n",
    "        \"customfield2\": \"lubowitz.info\",\n",
    "        \"customfield3\": \"Alexandrea Kunze\"\n",
    "        },\n",
    "        {\n",
    "        \"customfield1\": \"Nincada\",\n",
    "        \"customfield2\": \"zboncak.net\",\n",
    "        \"customfield3\": \"Reggie Schimmel\"\n",
    "        },\n",
    "        {\n",
    "        \"customfield1\": \"Sandile\",\n",
    "        \"customfield2\": \"aufderhar.biz\",\n",
    "        \"customfield3\": \"Veda Beahan\"\n",
    "        }\n",
    "    ]\n",
    "    }"
   ]
  },
  {
   "attachments": {},
   "cell_type": "markdown",
   "metadata": {},
   "source": [
    "## 2: Using curl:\n",
    "\n",
    "Repeat the same api calls as done on Hoppscotch, but this time do it using curl instead and save the results to a json file."
   ]
  },
  {
   "attachments": {},
   "cell_type": "markdown",
   "metadata": {},
   "source": [
    "### 2.1 Make GET call to get some companies:"
   ]
  },
  {
   "cell_type": "code",
   "execution_count": 29,
   "metadata": {},
   "outputs": [
    {
     "name": "stderr",
     "output_type": "stream",
     "text": [
      "  % Total    % Received % Xferd  Average Speed   Time    Time     Time  Current\n",
      "                                 Dload  Upload   Total   Spent    Left  Speed\n",
      "100  7630    0  7630    0     0  33761      0 --:--:-- --:--:-- --:--:-- 33761\n"
     ]
    }
   ],
   "source": [
    "%%bash\n",
    "curl -o companies.json \"https://fakerapi.it/api/v1/companies?_quantity=5\""
   ]
  },
  {
   "attachments": {},
   "cell_type": "markdown",
   "metadata": {},
   "source": [
    "### 2.2 Make GET call to get 50 persons with English names who were born after 1994:"
   ]
  },
  {
   "cell_type": "code",
   "execution_count": 28,
   "metadata": {},
   "outputs": [
    {
     "name": "stderr",
     "output_type": "stream",
     "text": [
      "  % Total    % Received % Xferd  Average Speed   Time    Time     Time  Current\n",
      "                                 Dload  Upload   Total   Spent    Left  Speed\n",
      "100 23170    0 23170    0     0    99k      0 --:--:-- --:--:-- --:--:--   99k\n"
     ]
    }
   ],
   "source": [
    "%%bash \n",
    "curl -o persons.json \"https://fakerapi.it/api/v1/persons?_quantity=50&_locale=en_EN&_birthday_start=1994-01-01\""
   ]
  },
  {
   "attachments": {},
   "cell_type": "markdown",
   "metadata": {},
   "source": [
    "### 2.3 Make GET call to get 5 German companies:"
   ]
  },
  {
   "cell_type": "code",
   "execution_count": 24,
   "metadata": {},
   "outputs": [
    {
     "name": "stderr",
     "output_type": "stream",
     "text": [
      "  % Total    % Received % Xferd  Average Speed   Time    Time     Time  Current\n",
      "                                 Dload  Upload   Total   Spent    Left  Speed\n",
      "100  7471    0  7471    0     0  32064      0 --:--:-- --:--:-- --:--:-- 32202\n"
     ]
    }
   ],
   "source": [
    "%%bash \n",
    "curl -o german_companies.json \"https://fakerapi.it/api/v1/companies?_quantity=5&_locale=de_DE\""
   ]
  },
  {
   "attachments": {},
   "cell_type": "markdown",
   "metadata": {},
   "source": [
    "### 2.4 Make GET call to retrieve 60 credit cards of Spanish people:"
   ]
  },
  {
   "cell_type": "code",
   "execution_count": 23,
   "metadata": {},
   "outputs": [
    {
     "name": "stderr",
     "output_type": "stream",
     "text": [
      "  % Total    % Received % Xferd  Average Speed   Time    Time     Time  Current\n",
      "                                 Dload  Upload   Total   Spent    Left  Speed\n",
      "100  5889    0  5889    0     0  33084      0 --:--:-- --:--:-- --:--:-- 33084\n"
     ]
    }
   ],
   "source": [
    "%%bash \n",
    "curl -o spanish_creditcards.json \"https://fakerapi.it/api/v1/credit_cards?_quantity=60&_locale=es_ES\""
   ]
  },
  {
   "attachments": {},
   "cell_type": "markdown",
   "metadata": {},
   "source": [
    "### 2.5 Make GET call to retrieve 47 products that cost higher than 50€:"
   ]
  },
  {
   "cell_type": "code",
   "execution_count": 22,
   "metadata": {},
   "outputs": [
    {
     "name": "stderr",
     "output_type": "stream",
     "text": [
      "  % Total    % Received % Xferd  Average Speed   Time    Time     Time  Current\n",
      "                                 Dload  Upload   Total   Spent    Left  Speed\n",
      "100 55699    0 55699    0     0  98757      0 --:--:-- --:--:-- --:--:-- 98757\n"
     ]
    }
   ],
   "source": [
    "%%bash \n",
    "curl -o products.json \"https://fakerapi.it/api/v1/products?_quantity=47&_price_min=50.00\""
   ]
  },
  {
   "attachments": {},
   "cell_type": "markdown",
   "metadata": {},
   "source": [
    "### 2.6 Make GET call to retrieve 10 Custom objects with \"pokemon\", \"website\", and \"name\" fields:"
   ]
  },
  {
   "cell_type": "code",
   "execution_count": 21,
   "metadata": {},
   "outputs": [
    {
     "name": "stderr",
     "output_type": "stream",
     "text": [
      "  % Total    % Received % Xferd  Average Speed   Time    Time     Time  Current\n",
      "                                 Dload  Upload   Total   Spent    Left  Speed\n",
      "100   936    0   936    0     0   5059      0 --:--:-- --:--:-- --:--:--  5059\n"
     ]
    }
   ],
   "source": [
    "%%bash \n",
    "curl -o custom.json \"https://fakerapi.it/api/v1/custom?_quantity=10&customfield1=pokemon&customfield2=website&customfield3=name\""
   ]
  },
  {
   "attachments": {},
   "cell_type": "markdown",
   "metadata": {},
   "source": [
    "## Note on Curl and Quotation Marks:\n",
    "\n",
    "https://serverfault.com/questions/1059967/different-response-when-hitting-curl-command-with-without-single-quotes\n",
    "\n",
    "The ampersand character causes issues when sending all parameters in the URL body."
   ]
  }
 ],
 "metadata": {
  "kernelspec": {
   "display_name": "Python 3",
   "language": "python",
   "name": "python3"
  },
  "language_info": {
   "codemirror_mode": {
    "name": "ipython",
    "version": 3
   },
   "file_extension": ".py",
   "mimetype": "text/x-python",
   "name": "python",
   "nbconvert_exporter": "python",
   "pygments_lexer": "ipython3",
   "version": "3.8.10"
  },
  "orig_nbformat": 4,
  "vscode": {
   "interpreter": {
    "hash": "916dbcbb3f70747c44a77c7bcd40155683ae19c65e1c03b4aa3499c5328201f1"
   }
  }
 },
 "nbformat": 4,
 "nbformat_minor": 2
}
