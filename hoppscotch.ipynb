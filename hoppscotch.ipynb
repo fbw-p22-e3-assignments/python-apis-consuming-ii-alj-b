{
 "cells": [
  {
   "attachments": {},
   "cell_type": "markdown",
   "metadata": {},
   "source": [
    "# Python-APIs-Consuming-II\n",
    "\n",
    "[GitHub Classroom Link](https://github.com/fbw-p22-e3-assignments/python-apis-consuming-ii-alj-b)"
   ]
  },
  {
   "attachments": {},
   "cell_type": "markdown",
   "metadata": {},
   "source": [
    "## 1: Advanced Postman:\n",
    "\n",
    "_Note:_ I will be using Hoppscotch."
   ]
  }
 ],
 "metadata": {
  "language_info": {
   "name": "python"
  },
  "orig_nbformat": 4
 },
 "nbformat": 4,
 "nbformat_minor": 2
}
